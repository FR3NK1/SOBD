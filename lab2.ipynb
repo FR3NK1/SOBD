{
 "cells": [
  {
   "cell_type": "code",
   "execution_count": 1,
   "id": "7f5a59e5-0083-4730-8352-90b19b75d19e",
   "metadata": {},
   "outputs": [],
   "source": [
    "import numpy as np\n",
    "import pandas as pd\n",
    "import os"
   ]
  },
  {
   "cell_type": "code",
   "execution_count": 2,
   "id": "6d76f960-5eb8-445b-aaca-8aaea64fbb32",
   "metadata": {},
   "outputs": [],
   "source": [
    "from pyspark.sql.types import *\n",
    "from pyspark.sql.functions import *\n",
    "from pyspark.sql import SparkSession\n",
    "\n",
    "from pyspark.ml import Pipeline\n",
    "from pyspark.ml.feature import VectorAssembler, StringIndexer, VectorIndexer, MinMaxScaler\n",
    "from pyspark.ml.tuning import ParamGridBuilder, CrossValidator\n",
    "from pyspark.ml.evaluation import BinaryClassificationEvaluator, RegressionEvaluator\n",
    "from pyspark.ml.regression import LinearRegression\n",
    "\n",
    "from pyspark.ml.classification import GBTClassifier\n",
    "\n",
    "spark = SparkSession.builder.master(\"local[*]\").getOrCreate()"
   ]
  },
  {
   "cell_type": "code",
   "execution_count": 3,
   "id": "3ef0682f-87b7-4e8e-93c1-9f4ad6bec50b",
   "metadata": {},
   "outputs": [
    {
     "data": {
      "text/html": [
       "<div>\n",
       "<style scoped>\n",
       "    .dataframe tbody tr th:only-of-type {\n",
       "        vertical-align: middle;\n",
       "    }\n",
       "\n",
       "    .dataframe tbody tr th {\n",
       "        vertical-align: top;\n",
       "    }\n",
       "\n",
       "    .dataframe thead th {\n",
       "        text-align: right;\n",
       "    }\n",
       "</style>\n",
       "<table border=\"1\" class=\"dataframe\">\n",
       "  <thead>\n",
       "    <tr style=\"text-align: right;\">\n",
       "      <th></th>\n",
       "      <th>timestamp</th>\n",
       "      <th>site_id</th>\n",
       "      <th>period_id</th>\n",
       "      <th>actual_consumption</th>\n",
       "      <th>actual_pv</th>\n",
       "      <th>load_00</th>\n",
       "      <th>load_15</th>\n",
       "      <th>load_30</th>\n",
       "      <th>load_45</th>\n",
       "      <th>load_60</th>\n",
       "      <th>load_75</th>\n",
       "      <th>load_90</th>\n",
       "      <th>pv_00</th>\n",
       "      <th>pv_15</th>\n",
       "      <th>pv_30</th>\n",
       "      <th>pv_45</th>\n",
       "      <th>pv_60</th>\n",
       "      <th>pv_75</th>\n",
       "      <th>pv_90</th>\n",
       "    </tr>\n",
       "  </thead>\n",
       "  <tbody>\n",
       "    <tr>\n",
       "      <th>0</th>\n",
       "      <td>2014-07-19 18:45:00</td>\n",
       "      <td>1</td>\n",
       "      <td>0</td>\n",
       "      <td>51.625703</td>\n",
       "      <td>22.712489</td>\n",
       "      <td>52.816828</td>\n",
       "      <td>53.389783</td>\n",
       "      <td>53.389783</td>\n",
       "      <td>53.389783</td>\n",
       "      <td>53.391791</td>\n",
       "      <td>53.389783</td>\n",
       "      <td>53.398708</td>\n",
       "      <td>18.321836</td>\n",
       "      <td>2.681188</td>\n",
       "      <td>1.646203</td>\n",
       "      <td>1.357879</td>\n",
       "      <td>76.186577</td>\n",
       "      <td>101.239714</td>\n",
       "      <td>53.792765</td>\n",
       "    </tr>\n",
       "    <tr>\n",
       "      <th>1</th>\n",
       "      <td>2014-07-19 19:30:00</td>\n",
       "      <td>1</td>\n",
       "      <td>0</td>\n",
       "      <td>52.281257</td>\n",
       "      <td>6.618605</td>\n",
       "      <td>51.452796</td>\n",
       "      <td>53.389783</td>\n",
       "      <td>53.391368</td>\n",
       "      <td>53.389783</td>\n",
       "      <td>53.407345</td>\n",
       "      <td>53.437070</td>\n",
       "      <td>53.406378</td>\n",
       "      <td>6.339899</td>\n",
       "      <td>1.547058</td>\n",
       "      <td>1.330260</td>\n",
       "      <td>4.771444</td>\n",
       "      <td>77.650275</td>\n",
       "      <td>97.718869</td>\n",
       "      <td>34.159983</td>\n",
       "    </tr>\n",
       "    <tr>\n",
       "      <th>2</th>\n",
       "      <td>2014-07-19 20:00:00</td>\n",
       "      <td>1</td>\n",
       "      <td>0</td>\n",
       "      <td>50.719565</td>\n",
       "      <td>1.452209</td>\n",
       "      <td>51.313898</td>\n",
       "      <td>53.389783</td>\n",
       "      <td>53.393106</td>\n",
       "      <td>53.389783</td>\n",
       "      <td>53.393111</td>\n",
       "      <td>53.389783</td>\n",
       "      <td>53.398708</td>\n",
       "      <td>0.936193</td>\n",
       "      <td>0.919032</td>\n",
       "      <td>1.155305</td>\n",
       "      <td>8.527937</td>\n",
       "      <td>100.038989</td>\n",
       "      <td>94.236474</td>\n",
       "      <td>24.634119</td>\n",
       "    </tr>\n",
       "    <tr>\n",
       "      <th>3</th>\n",
       "      <td>2014-07-19 20:15:00</td>\n",
       "      <td>1</td>\n",
       "      <td>0</td>\n",
       "      <td>51.901162</td>\n",
       "      <td>0.580877</td>\n",
       "      <td>51.950475</td>\n",
       "      <td>53.389783</td>\n",
       "      <td>53.393106</td>\n",
       "      <td>53.460944</td>\n",
       "      <td>53.826278</td>\n",
       "      <td>53.389783</td>\n",
       "      <td>54.098676</td>\n",
       "      <td>0.219761</td>\n",
       "      <td>0.894574</td>\n",
       "      <td>1.148492</td>\n",
       "      <td>15.937884</td>\n",
       "      <td>98.785139</td>\n",
       "      <td>96.410975</td>\n",
       "      <td>19.146747</td>\n",
       "    </tr>\n",
       "    <tr>\n",
       "      <th>4</th>\n",
       "      <td>2014-07-19 21:00:00</td>\n",
       "      <td>1</td>\n",
       "      <td>0</td>\n",
       "      <td>51.250007</td>\n",
       "      <td>0.000000</td>\n",
       "      <td>52.218820</td>\n",
       "      <td>53.389783</td>\n",
       "      <td>53.396435</td>\n",
       "      <td>54.021914</td>\n",
       "      <td>53.843979</td>\n",
       "      <td>53.905183</td>\n",
       "      <td>54.122371</td>\n",
       "      <td>0.143507</td>\n",
       "      <td>0.938702</td>\n",
       "      <td>1.160785</td>\n",
       "      <td>35.972993</td>\n",
       "      <td>97.065151</td>\n",
       "      <td>84.195736</td>\n",
       "      <td>5.622440</td>\n",
       "    </tr>\n",
       "  </tbody>\n",
       "</table>\n",
       "</div>"
      ],
      "text/plain": [
       "            timestamp  site_id  period_id  actual_consumption  actual_pv  \\\n",
       "0 2014-07-19 18:45:00        1          0           51.625703  22.712489   \n",
       "1 2014-07-19 19:30:00        1          0           52.281257   6.618605   \n",
       "2 2014-07-19 20:00:00        1          0           50.719565   1.452209   \n",
       "3 2014-07-19 20:15:00        1          0           51.901162   0.580877   \n",
       "4 2014-07-19 21:00:00        1          0           51.250007   0.000000   \n",
       "\n",
       "     load_00    load_15    load_30    load_45    load_60    load_75  \\\n",
       "0  52.816828  53.389783  53.389783  53.389783  53.391791  53.389783   \n",
       "1  51.452796  53.389783  53.391368  53.389783  53.407345  53.437070   \n",
       "2  51.313898  53.389783  53.393106  53.389783  53.393111  53.389783   \n",
       "3  51.950475  53.389783  53.393106  53.460944  53.826278  53.389783   \n",
       "4  52.218820  53.389783  53.396435  54.021914  53.843979  53.905183   \n",
       "\n",
       "     load_90      pv_00     pv_15     pv_30      pv_45       pv_60  \\\n",
       "0  53.398708  18.321836  2.681188  1.646203   1.357879   76.186577   \n",
       "1  53.406378   6.339899  1.547058  1.330260   4.771444   77.650275   \n",
       "2  53.398708   0.936193  0.919032  1.155305   8.527937  100.038989   \n",
       "3  54.098676   0.219761  0.894574  1.148492  15.937884   98.785139   \n",
       "4  54.122371   0.143507  0.938702  1.160785  35.972993   97.065151   \n",
       "\n",
       "        pv_75      pv_90  \n",
       "0  101.239714  53.792765  \n",
       "1   97.718869  34.159983  \n",
       "2   94.236474  24.634119  \n",
       "3   96.410975  19.146747  \n",
       "4   84.195736   5.622440  "
      ]
     },
     "execution_count": 3,
     "metadata": {},
     "output_type": "execute_result"
    }
   ],
   "source": [
    "dataframe = spark.read.csv('filtered_data/filtered_data.csv', inferSchema=True, header=True, sep=';')\n",
    "dataframe.limit(5).toPandas()"
   ]
  },
  {
   "cell_type": "markdown",
   "id": "6c3c002e-a7ce-435b-811d-ed4ce161fb91",
   "metadata": {},
   "source": [
    "# Решим задачу регрессии"
   ]
  },
  {
   "cell_type": "code",
   "execution_count": 4,
   "id": "fb767dd5-3fbf-4cd9-89ab-fd842c896298",
   "metadata": {},
   "outputs": [
    {
     "name": "stdout",
     "output_type": "stream",
     "text": [
      "+-----------+-------+---------+------------------+------------------+------------------+-----------------+\n",
      "|  timestamp|site_id|period_id|actual_consumption|         actual_pv|           load_00|            label|\n",
      "+-----------+-------+---------+------------------+------------------+------------------+-----------------+\n",
      "|1.4057955E9|      1|        0| 51.62570299494799| 22.71248932566911| 52.81682785868848|53.39870789573359|\n",
      "|1.4057982E9|      1|        0| 52.28125674965801| 6.618605013254157|51.452796259410526|53.40637826612612|\n",
      "|   1.4058E9|      1|        0| 50.71956514220455|1.4522094578011435| 51.31389786752856|53.39870789573359|\n",
      "|1.4058009E9|      1|        0| 51.90116154382357|0.5808771932574699| 51.95047496345374|54.09867645977295|\n",
      "|1.4058036E9|      1|        0| 51.25000680775122|               0.0|  52.2188201830341|54.12237134751928|\n",
      "|1.4058099E9|      1|        0| 51.79032626969339|               0.0| 51.85754836350091|53.39870789573359|\n",
      "|1.4058108E9|      1|        0|52.460696718996665|               0.0|52.347502377808425|53.39870789573359|\n",
      "|1.4058117E9|      1|        0|  51.8311171697882|               0.0| 52.02452195262566|53.39870789573359|\n",
      "|1.4058135E9|      1|        0| 52.03053268284976|               0.0| 52.20283988457731|53.39870789573359|\n",
      "|1.4058144E9|      1|        0|51.754934165199366|               0.0| 51.99563275809863|53.39870789573359|\n",
      "+-----------+-------+---------+------------------+------------------+------------------+-----------------+\n",
      "only showing top 10 rows\n",
      "\n"
     ]
    }
   ],
   "source": [
    "data = dataframe.select(\n",
    "    \"timestamp\", \n",
    "    \"site_id\", \n",
    "    \"period_id\", \n",
    "    \"actual_consumption\", \n",
    "    \"actual_pv\", \n",
    "    \"load_00\", \n",
    "    ((col(\"load_90\")).alias(\"label\"))).withColumn(\"timestamp\", unix_timestamp(\"timestamp\").cast(DoubleType()))\n",
    "data.show(10)"
   ]
  },
  {
   "cell_type": "markdown",
   "id": "5c850612-7f43-438f-bcad-b033b72bbdd0",
   "metadata": {},
   "source": [
    "Используем 70% данных для обучения, а 30% оставим для тестирования. В данных тестирования столбец label переименован в rightLabel, поэтому можно использовать его позже для сравнения прогнозируемых меток с известными фактическими значениями."
   ]
  },
  {
   "cell_type": "code",
   "execution_count": 5,
   "id": "8df78756-edeb-466f-9a6d-b451c6bcd050",
   "metadata": {},
   "outputs": [
    {
     "name": "stdout",
     "output_type": "stream",
     "text": [
      "Training Rows: 23377  Testing Rows: 10128\n"
     ]
    }
   ],
   "source": [
    "splits = data.randomSplit([0.7, 0.3])\n",
    "train = splits[0]\n",
    "test = splits[1].withColumnRenamed(\"label\", \"rightLabel\")\n",
    "train_rows = train.count()\n",
    "test_rows = test.count()\n",
    "print(\"Training Rows:\", train_rows, \" Testing Rows:\", test_rows)"
   ]
  },
  {
   "cell_type": "code",
   "execution_count": 6,
   "id": "17f931fa-f663-4f89-9cc4-895f03c5bd00",
   "metadata": {},
   "outputs": [
    {
     "name": "stdout",
     "output_type": "stream",
     "text": [
      "+----------------------------------------------------------------------------------------------------------------------------------------+------------------+-----------------+\n",
      "|reg_features                                                                                                                            |prediction        |rightLabel       |\n",
      "+----------------------------------------------------------------------------------------------------------------------------------------+------------------+-----------------+\n",
      "|[1.4057955E9,0.0,0.0,51.62570299494799,22.71248932566911,52.81682785868848,0.23079175531723833,0.29912919798128706,0.1944704199932404]  |59.725990341183305|53.39870789573359|\n",
      "|[1.4057982E9,0.0,0.0,52.28125674965801,6.618605013254157,51.452796259410526,0.23453010227346452,0.08716869300328517,0.18247084493937699]|58.406070584566805|53.40637826612612|\n",
      "|[1.4058036E9,0.0,0.0,51.25000680775122,0.0,52.2188201830341,0.22864931819780782,0.0,0.18920966357777347]                                |55.77343456694322 |54.12237134751928|\n",
      "|[1.4058108E9,0.0,0.0,52.460696718996665,0.0,52.347502377808425,0.23555337284186997,0.0,0.19034169868246442]                             |56.93806403458    |53.39870789573359|\n",
      "|[1.4058198E9,0.0,0.0,52.094058511085656,0.0,52.30283050132776,0.23346258956325597,0.0,0.18994871399287924]                              |56.588688414177305|53.47677584141685|\n",
      "|[1.4058234E9,0.0,0.0,51.872507936060885,0.0,52.147405982868136,0.23219917994681596,0.0,0.18858142295984592]                             |56.45105788153671 |53.41248245326217|\n",
      "|[1.4058756E9,0.0,0.0,53.10239356499802,54.729442590914665,53.489024721350184,0.23921269968399936,0.7208005266811899,0.20038382897053278]|66.36455028390674 |89.64864404886258|\n",
      "|[1.4058774E9,0.0,0.0,52.36483810377386,58.642951801306396,52.41037429317257,0.23500673153309629,0.772342427465875,0.19089479163690304]  |66.90131753539114 |89.64864404886258|\n",
      "|[1.4058981E9,0.0,0.0,52.03713121080627,0.0,52.65972279214575,0.2331379571464685,0.0,0.19308834494577115]                                |56.326580537427674|54.54647226707348|\n",
      "|[1.4059053E9,0.0,1.0,51.367340632141605,0.0,51.757440752687216,0.22931842357951093,0.0,0.18515084477497826]                             |56.182227822910555|54.54647226707348|\n",
      "+----------------------------------------------------------------------------------------------------------------------------------------+------------------+-----------------+\n",
      "only showing top 10 rows\n",
      "\n"
     ]
    }
   ],
   "source": [
    "# Создание столбца признаков для задачи регрессии\n",
    "catVect = VectorAssembler(inputCols=[\"timestamp\", \"site_id\", \"period_id\"], outputCol=\"reg_catFeatures\")\n",
    "catIdx = VectorIndexer(inputCol=catVect.getOutputCol(), outputCol=\"reg_idxCatFeatures\")\n",
    "numVect = VectorAssembler(inputCols=[\"actual_consumption\", \"actual_pv\", \"load_00\"], outputCol=\"reg_numFeatures\")\n",
    "minMax = MinMaxScaler(inputCol=numVect.getOutputCol(), outputCol='reg_normFeatures')\n",
    "featVect = VectorAssembler(inputCols=[\"reg_idxCatFeatures\", \"reg_numFeatures\", \"reg_normFeatures\"], outputCol=\"reg_features\")\n",
    "\n",
    "# Создание модели LinearRegression\n",
    "lr = LinearRegression(labelCol=\"label\", featuresCol=\"reg_features\")\n",
    "\n",
    "# Создание и выполнение пайплайна для задачи регрессии\n",
    "reg_pipeline = Pipeline(stages=[catVect, catIdx, numVect, minMax, featVect, lr])\n",
    "reg_model = reg_pipeline.fit(train)\n",
    "reg_prediction = reg_model.transform(test)\n",
    "\n",
    "# Вывод результатов\n",
    "reg_prediction.select(\"reg_features\", \"prediction\", \"rightLabel\").show(10, truncate=False)"
   ]
  },
  {
   "cell_type": "code",
   "execution_count": 7,
   "id": "9dde4d8a-0bc6-4721-aea8-57d01b314fab",
   "metadata": {},
   "outputs": [
    {
     "name": "stdout",
     "output_type": "stream",
     "text": [
      "RMSE =  11.494353810756488\n"
     ]
    }
   ],
   "source": [
    "# Расчет метрик для задачи регрессии\n",
    "reg_evaluator = RegressionEvaluator(labelCol=\"rightLabel\", predictionCol=\"prediction\", metricName=\"rmse\")\n",
    "rmse = reg_evaluator.evaluate(reg_prediction)\n",
    "print(\"RMSE = \", rmse)"
   ]
  },
  {
   "cell_type": "code",
   "execution_count": 8,
   "id": "5c90ed3b-48bc-450b-9b2b-27a50b0e6530",
   "metadata": {},
   "outputs": [
    {
     "name": "stdout",
     "output_type": "stream",
     "text": [
      "R² =  0.4099043652184545\n"
     ]
    }
   ],
   "source": [
    "# Расчет метрик для задачи регрессии\n",
    "reg_evaluator = RegressionEvaluator(labelCol=\"rightLabel\", predictionCol=\"prediction\", metricName=\"r2\")\n",
    "r2 = reg_evaluator.evaluate(reg_prediction)\n",
    "print(\"R² = \", r2)"
   ]
  },
  {
   "cell_type": "code",
   "execution_count": 9,
   "id": "8ec1027b-4629-422b-899e-7f21b891be80",
   "metadata": {},
   "outputs": [
    {
     "name": "stdout",
     "output_type": "stream",
     "text": [
      "+------------------+\n",
      "|     stddev(label)|\n",
      "+------------------+\n",
      "|15.024492674635598|\n",
      "+------------------+\n",
      "\n"
     ]
    }
   ],
   "source": [
    "data.select(stddev('label')).show()"
   ]
  },
  {
   "cell_type": "markdown",
   "id": "08011465-7c9f-4107-8733-c9d77d2754c6",
   "metadata": {},
   "source": [
    "CrossValidator разделяет обучающий набор данных на заданное количество складок (фолдов), обучает модель на части данных и оценивает ее на оставшихся данных. Этот процесс повторяется для каждой комбинации гиперпараметров, и выбирается модель с наилучшей средней производительностью на всех фолдах."
   ]
  },
  {
   "cell_type": "code",
   "execution_count": 10,
   "id": "f2f529f8-266e-425e-becd-ddddf5fe51af",
   "metadata": {},
   "outputs": [],
   "source": [
    "param_grid = (ParamGridBuilder()\n",
    "              .addGrid(lr.regParam, [0.01, 0.1, 1.0])\n",
    "              .addGrid(lr.elasticNetParam, [0.0, 0.5, 1.0])\n",
    "              .addGrid(lr.maxIter, [10, 50, 100])\n",
    "              .build())\n",
    "\n",
    "cv = CrossValidator(estimator=reg_pipeline,\n",
    "                            estimatorParamMaps=param_grid,\n",
    "                            evaluator=RegressionEvaluator(),\n",
    "                            numFolds=3) \n",
    "\n",
    "# Обучение и подбор гиперпараметров\n",
    "cv_model = cv.fit(train)\n",
    "\n",
    "best_cv_model = cv_model.bestModel\n",
    "\n",
    "# Оценка производительности на тестовом наборе\n",
    "cv_prediction = best_cv_model.transform(test)"
   ]
  },
  {
   "cell_type": "code",
   "execution_count": 11,
   "id": "53757c82-4ee1-4a78-b57a-e545b6e5cbaa",
   "metadata": {},
   "outputs": [
    {
     "name": "stdout",
     "output_type": "stream",
     "text": [
      "RMSE =  11.493872223032922\n"
     ]
    }
   ],
   "source": [
    "reg_evaluator = RegressionEvaluator(labelCol=\"rightLabel\", predictionCol=\"prediction\", metricName=\"rmse\")\n",
    "rmse = reg_evaluator.evaluate(cv_prediction)\n",
    "print(\"RMSE = \", rmse)"
   ]
  },
  {
   "cell_type": "code",
   "execution_count": 12,
   "id": "f877af6c-5705-4436-8a60-07c7648839fc",
   "metadata": {},
   "outputs": [
    {
     "name": "stdout",
     "output_type": "stream",
     "text": [
      "R² =  0.4099538115579022\n"
     ]
    }
   ],
   "source": [
    "# Расчет метрик для задачи регрессии\n",
    "reg_evaluator = RegressionEvaluator(labelCol=\"rightLabel\", predictionCol=\"prediction\", metricName=\"r2\")\n",
    "r2 = reg_evaluator.evaluate(cv_prediction)\n",
    "print(\"R² = \", r2)"
   ]
  },
  {
   "cell_type": "markdown",
   "id": "3f1b7eef-3484-4b2c-bc52-e6c37724d03b",
   "metadata": {},
   "source": [
    "# Решим задачу бинарной классификации"
   ]
  },
  {
   "cell_type": "markdown",
   "id": "592233b2-7483-4aca-bf3d-c467d8c8d7d8",
   "metadata": {},
   "source": [
    "### Подготовка данных"
   ]
  },
  {
   "cell_type": "markdown",
   "id": "09cabb35-1cd6-438b-b3f2-731e90bf2a48",
   "metadata": {},
   "source": [
    "Выберем подмножество столбцов для использования в качестве признаков и создадим логическое поле метки с именем label со значениями 1 или 0. В частности, 1 для показателей нагрузок более 75 в load_90 и 0 для нагрузок менее 75."
   ]
  },
  {
   "cell_type": "code",
   "execution_count": 13,
   "id": "691dea8b-786c-45f9-b27d-80b7f38110a8",
   "metadata": {},
   "outputs": [
    {
     "name": "stdout",
     "output_type": "stream",
     "text": [
      "+-----------+-------+---------+------------------+------------------+------------------+-----+\n",
      "|  timestamp|site_id|period_id|actual_consumption|         actual_pv|           load_00|label|\n",
      "+-----------+-------+---------+------------------+------------------+------------------+-----+\n",
      "|1.4057955E9|      1|        0| 51.62570299494799| 22.71248932566911| 52.81682785868848|    0|\n",
      "|1.4057982E9|      1|        0| 52.28125674965801| 6.618605013254157|51.452796259410526|    0|\n",
      "|   1.4058E9|      1|        0| 50.71956514220455|1.4522094578011435| 51.31389786752856|    0|\n",
      "|1.4058009E9|      1|        0| 51.90116154382357|0.5808771932574699| 51.95047496345374|    0|\n",
      "|1.4058036E9|      1|        0| 51.25000680775122|               0.0|  52.2188201830341|    0|\n",
      "|1.4058099E9|      1|        0| 51.79032626969339|               0.0| 51.85754836350091|    0|\n",
      "|1.4058108E9|      1|        0|52.460696718996665|               0.0|52.347502377808425|    0|\n",
      "|1.4058117E9|      1|        0|  51.8311171697882|               0.0| 52.02452195262566|    0|\n",
      "|1.4058135E9|      1|        0| 52.03053268284976|               0.0| 52.20283988457731|    0|\n",
      "|1.4058144E9|      1|        0|51.754934165199366|               0.0| 51.99563275809863|    0|\n",
      "+-----------+-------+---------+------------------+------------------+------------------+-----+\n",
      "only showing top 10 rows\n",
      "\n"
     ]
    }
   ],
   "source": [
    "data = dataframe.select(\n",
    "    \"timestamp\", \n",
    "    \"site_id\", \n",
    "    \"period_id\", \n",
    "    \"actual_consumption\", \n",
    "    \"actual_pv\", \n",
    "    \"load_00\", \n",
    "    ((col(\"load_90\") > 58).cast(\"Int\").alias(\"label\"))).withColumn(\"timestamp\", unix_timestamp(\"timestamp\").cast(DoubleType()))\n",
    "data.show(10)"
   ]
  },
  {
   "cell_type": "raw",
   "id": "cb9b7cb9-2e62-4b32-914a-8a6f6659fe2f",
   "metadata": {},
   "source": [
    "Используем 70% данных для обучения, а 30% оставим для тестирования. В данных тестирования столбец load переименован в rightLabel, поэтому можно использовать его позже для сравнения прогнозируемых меток с известными фактическими значениями."
   ]
  },
  {
   "cell_type": "code",
   "execution_count": 14,
   "id": "5229897c-7116-4e4c-8dec-ba74273622a4",
   "metadata": {},
   "outputs": [
    {
     "name": "stdout",
     "output_type": "stream",
     "text": [
      "Training Rows: 23396  Testing Rows: 10109\n"
     ]
    }
   ],
   "source": [
    "splits = data.randomSplit([0.7, 0.3])\n",
    "train = splits[0]\n",
    "test = splits[1].withColumnRenamed(\"label\", \"rightLabel\")\n",
    "train_rows = train.count()\n",
    "test_rows = test.count()\n",
    "print(\"Training Rows:\", train_rows, \" Testing Rows:\", test_rows)"
   ]
  },
  {
   "cell_type": "markdown",
   "id": "c0f0dc07-63c2-49af-b800-bb7eab1fad31",
   "metadata": {},
   "source": [
    "### Вычисление отношения между классами"
   ]
  },
  {
   "cell_type": "code",
   "execution_count": 15,
   "id": "2b2deb91-8cf0-4bce-8ee2-2af524dc2b29",
   "metadata": {},
   "outputs": [
    {
     "name": "stdout",
     "output_type": "stream",
     "text": [
      "Positive to Negative Class Ratio: 0.9377174093092596\n"
     ]
    }
   ],
   "source": [
    "positive_count = train.filter(col(\"label\") == 1).count()\n",
    "negative_count = train.filter(col(\"label\") == 0).count()\n",
    "balance_ratio = positive_count / negative_count\n",
    "print(\"Positive to Negative Class Ratio:\", balance_ratio)"
   ]
  },
  {
   "cell_type": "code",
   "execution_count": 16,
   "id": "7684852c-cb74-4259-869e-f3f2356e7708",
   "metadata": {},
   "outputs": [
    {
     "name": "stdout",
     "output_type": "stream",
     "text": [
      "+--------------------------------------------------------------------------------+----------+----------+\n",
      "|features                                                                        |prediction|rightLabel|\n",
      "+--------------------------------------------------------------------------------+----------+----------+\n",
      "|[1.4058108E9,0.0,0.0,0.3496619637349427,0.0,0.22958901750264155]                |0.0       |0         |\n",
      "|[1.4058135E9,0.0,0.0,0.3460205966676067,0.0,0.22805399569532128]                |0.0       |0         |\n",
      "|[1.4058144E9,0.0,0.0,0.34368763695538185,0.0,0.2258553092861994]                |0.0       |0         |\n",
      "|[1.4058432E9,0.0,0.0,0.3502983947382051,0.22915654459842116,0.2329009423290168] |0.0       |0         |\n",
      "|[1.4058756E9,0.0,0.0,0.3550939700532131,0.7209437233742669,0.24170177494060768] |1.0       |1         |\n",
      "|[1.4058765E9,0.0,0.0,0.3484632391697555,0.5984913956788418,0.2269658695545072]  |0.0       |1         |\n",
      "|[1.405881E9,0.0,0.0,0.34813656048988945,0.40506499481383734,0.22776323353036007]|0.0       |1         |\n",
      "|[1.4058837E9,0.0,0.0,0.34204628816851074,0.1556658108695076,0.22121952052623295]|0.0       |1         |\n",
      "|[1.4058981E9,0.0,0.0,0.34607645364395684,0.0,0.23290200578311224]               |0.0       |0         |\n",
      "|[1.4059008E9,0.0,1.0,0.35041213985368186,0.0,0.23276808299069185]               |0.0       |0         |\n",
      "+--------------------------------------------------------------------------------+----------+----------+\n",
      "only showing top 10 rows\n",
      "\n"
     ]
    }
   ],
   "source": [
    "catVect = VectorAssembler(inputCols = [\"timestamp\", \"site_id\", \"period_id\"], outputCol=\"catFeatures\")\n",
    "catIdx = VectorIndexer(inputCol = catVect.getOutputCol(), outputCol = \"idxCatFeatures\")\n",
    "numVect = VectorAssembler(inputCols = [\"actual_consumption\", \"actual_pv\", \"load_00\"], outputCol=\"numFeatures\")\n",
    "minMax = MinMaxScaler(inputCol = numVect.getOutputCol(), outputCol=\"normFeatures\")\n",
    "featVect = VectorAssembler(inputCols=[\"idxCatFeatures\", \"normFeatures\"], outputCol=\"features\")\n",
    "\n",
    "gbt = GBTClassifier(labelCol=\"label\", featuresCol=\"features\", maxIter=10, maxDepth=5, stepSize=0.1)\n",
    "\n",
    "pipeline = Pipeline(stages=[catVect, catIdx, numVect, minMax, featVect, gbt])\n",
    "model = pipeline.fit(train)\n",
    "prediction = model.transform(test)\n",
    "\n",
    "predicted = prediction.select(\"features\", \"prediction\", \"rightLabel\")\n",
    "predicted.show(10, truncate=False)"
   ]
  },
  {
   "cell_type": "code",
   "execution_count": 17,
   "id": "c12104b4-b85f-469a-813a-2f69d0720efe",
   "metadata": {},
   "outputs": [
    {
     "name": "stdout",
     "output_type": "stream",
     "text": [
      "+---------+------------------+\n",
      "|   metric|             value|\n",
      "+---------+------------------+\n",
      "|       TP|            3800.0|\n",
      "|       FP|            1233.0|\n",
      "|       TN|            4061.0|\n",
      "|       FN|            1015.0|\n",
      "|Precision|0.7550168885356646|\n",
      "|   Recall|0.7892004153686397|\n",
      "|       F1|0.7717303005686434|\n",
      "+---------+------------------+\n",
      "\n"
     ]
    }
   ],
   "source": [
    "tp = float(predicted.filter(\"prediction == 1.0 AND rightLabel == 1\").count())\n",
    "fp = float(predicted.filter(\"prediction == 1.0 AND rightLabel == 0\").count())\n",
    "tn = float(predicted.filter(\"prediction == 0.0 AND rightLabel == 0\").count())\n",
    "fn = float(predicted.filter(\"prediction == 0.0 AND rightLabel == 1\").count())\n",
    "pr = tp / (tp + fp)\n",
    "re = tp / (tp + fn)\n",
    "metrics = spark.createDataFrame([\n",
    " (\"TP\", tp),\n",
    " (\"FP\", fp),\n",
    " (\"TN\", tn),\n",
    " (\"FN\", fn),\n",
    " (\"Precision\", pr),\n",
    " (\"Recall\", re),\n",
    " (\"F1\", 2*pr*re/(re+pr))],[\"metric\", \"value\"])\n",
    "metrics.show()"
   ]
  },
  {
   "cell_type": "code",
   "execution_count": 18,
   "id": "fa628200-ad7c-4da3-b503-c43729269d53",
   "metadata": {},
   "outputs": [
    {
     "name": "stdout",
     "output_type": "stream",
     "text": [
      "AUR =  0.847648388955776\n"
     ]
    }
   ],
   "source": [
    "evaluator = BinaryClassificationEvaluator(labelCol=\"rightLabel\", rawPredictionCol=\"rawPrediction\", metricName=\"areaUnderROC\")\n",
    "aur = evaluator.evaluate(prediction)\n",
    "print (\"AUR = \", aur)"
   ]
  },
  {
   "cell_type": "markdown",
   "id": "9f27be2e-c50a-4378-a8c2-3b7550e93795",
   "metadata": {},
   "source": [
    "### Подбор гиперпараметров"
   ]
  },
  {
   "cell_type": "code",
   "execution_count": 19,
   "id": "b5590407-28ef-4fbb-9b51-fcec17e3ceed",
   "metadata": {},
   "outputs": [],
   "source": [
    "paramGrid = (ParamGridBuilder()\n",
    "             .addGrid(gbt.maxDepth, [2, 5, 10])\n",
    "             .addGrid(gbt.maxBins, [20, 32])\n",
    "             .addGrid(gbt.maxIter, [10, 20])\n",
    "             .build())\n",
    "\n",
    "cv = CrossValidator(estimator=pipeline, \n",
    "                    evaluator=BinaryClassificationEvaluator(), \n",
    "                    estimatorParamMaps=paramGrid, \n",
    "                    numFolds=2)\n",
    "\n",
    "model = cv.fit(train)"
   ]
  },
  {
   "cell_type": "code",
   "execution_count": 20,
   "id": "b89a70a0-d03d-4d12-ba13-42519d97bea6",
   "metadata": {},
   "outputs": [
    {
     "name": "stdout",
     "output_type": "stream",
     "text": [
      "+--------------------+----------+----------+\n",
      "|            features|prediction|rightLabel|\n",
      "+--------------------+----------+----------+\n",
      "|[1.4058108E9,0.0,...|       0.0|         0|\n",
      "|[1.4058135E9,0.0,...|       0.0|         0|\n",
      "|[1.4058144E9,0.0,...|       0.0|         0|\n",
      "|[1.4058432E9,0.0,...|       0.0|         0|\n",
      "|[1.4058756E9,0.0,...|       1.0|         1|\n",
      "|[1.4058765E9,0.0,...|       0.0|         1|\n",
      "|[1.405881E9,0.0,0...|       0.0|         1|\n",
      "|[1.4058837E9,0.0,...|       0.0|         1|\n",
      "|[1.4058981E9,0.0,...|       0.0|         0|\n",
      "|[1.4059008E9,0.0,...|       0.0|         0|\n",
      "|[1.4059062E9,0.0,...|       0.0|         0|\n",
      "|[1.4059161E9,0.0,...|       0.0|         0|\n",
      "|[1.4059314E9,0.0,...|       1.0|         1|\n",
      "|[1.405935E9,0.0,1...|       1.0|         1|\n",
      "|[1.4059818E9,0.0,...|       0.0|         0|\n",
      "|[1.4059872E9,0.0,...|       0.0|         0|\n",
      "|[1.4059908E9,0.0,...|       0.0|         0|\n",
      "|[1.4060052E9,0.0,...|       0.0|         0|\n",
      "|[1.4060538E9,0.0,...|       1.0|         1|\n",
      "|[1.406061E9,0.0,1...|       1.0|         1|\n",
      "+--------------------+----------+----------+\n",
      "only showing top 20 rows\n",
      "\n"
     ]
    }
   ],
   "source": [
    "newPrediction = model.transform(test)\n",
    "newPredicted = prediction.select(\"features\", \"prediction\", \"rightLabel\")\n",
    "newPredicted.show()"
   ]
  },
  {
   "cell_type": "code",
   "execution_count": 25,
   "id": "49eca73b-9972-4222-b203-8edb12f93555",
   "metadata": {},
   "outputs": [
    {
     "name": "stdout",
     "output_type": "stream",
     "text": [
      "+---------+------------------+\n",
      "|   metric|             value|\n",
      "+---------+------------------+\n",
      "|       TP|            3838.0|\n",
      "|       FP|            1244.0|\n",
      "|       TN|            4050.0|\n",
      "|       FN|             977.0|\n",
      "|Precision|0.7552144824872098|\n",
      "|   Recall| 0.797092419522326|\n",
      "|       F1|0.7755885621905628|\n",
      "+---------+------------------+\n",
      "\n"
     ]
    }
   ],
   "source": [
    "tp2 = float(newPrediction.filter(\"prediction == 1.0 AND rightLabel == 1\").count())\n",
    "fp2 = float(newPrediction.filter(\"prediction == 1.0 AND rightLabel == 0\").count())\n",
    "tn2 = float(newPrediction.filter(\"prediction == 0.0 AND rightLabel == 0\").count())\n",
    "fn2 = float(newPrediction.filter(\"prediction == 0.0 AND rightLabel == 1\").count())\n",
    "pr2 = tp2 / (tp2 + fp2)\n",
    "re2 = tp2 / (tp2 + fn2)\n",
    "metrics2 = spark.createDataFrame([\n",
    " (\"TP\", tp2),\n",
    " (\"FP\", fp2),\n",
    " (\"TN\", tn2),\n",
    " (\"FN\", fn2),\n",
    " (\"Precision\", pr2),\n",
    " (\"Recall\", re2),\n",
    " (\"F1\", 2*pr2*re2/(re2+pr2))],[\"metric\", \"value\"])\n",
    "metrics2.show()"
   ]
  },
  {
   "cell_type": "code",
   "execution_count": 26,
   "id": "baa519a2-e3a1-4d3c-a287-7b61532da79d",
   "metadata": {},
   "outputs": [
    {
     "name": "stdout",
     "output_type": "stream",
     "text": [
      "AUR2 =  0.8476483889557761\n"
     ]
    }
   ],
   "source": [
    "evaluator2 = BinaryClassificationEvaluator(labelCol=\"trueLabel\", rawPredictionCol=\"prediction\", metricName=\"areaUnderROC\")\n",
    "aur2 = evaluator.evaluate(prediction)\n",
    "print(\"AUR2 = \", aur2)"
   ]
  }
 ],
 "metadata": {
  "kernelspec": {
   "display_name": "Python 3 (ipykernel)",
   "language": "python",
   "name": "python3"
  },
  "language_info": {
   "codemirror_mode": {
    "name": "ipython",
    "version": 3
   },
   "file_extension": ".py",
   "mimetype": "text/x-python",
   "name": "python",
   "nbconvert_exporter": "python",
   "pygments_lexer": "ipython3",
   "version": "3.11.5"
  }
 },
 "nbformat": 4,
 "nbformat_minor": 5
}
